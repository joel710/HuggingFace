{
  "cells": [
    {
      "cell_type": "markdown",
      "metadata": {
        "id": "view-in-github",
        "colab_type": "text"
      },
      "source": [
        "<a href=\"https://colab.research.google.com/github/royam0820/HuggingFace/blob/main/amr_fast_stable_diffusion_AUTOMATIC1111.ipynb\" target=\"_parent\"><img src=\"https://colab.research.google.com/assets/colab-badge.svg\" alt=\"Open In Colab\"/></a>"
      ]
    },
    {
      "cell_type": "markdown",
      "metadata": {
        "id": "47kV9o1Ni8GH"
      },
      "source": [
        "# **Notebook From https://github.com/TheLastBen/fast-stable-diffusion, if you encounter any issues, feel free to discuss them.** [Support](https://ko-fi.com/thelastben)"
      ]
    },
    {
      "cell_type": "markdown",
      "metadata": {
        "id": "mMvNge25ok6V"
      },
      "source": [
        "# Stable Diffusion Webui - Wiki\n",
        "https://github.com/AUTOMATIC1111/stable-diffusion-webui/wiki/Features"
      ]
    },
    {
      "cell_type": "markdown",
      "metadata": {
        "id": "K9XweCKz4krn"
      },
      "source": [
        "# Stable Diffusion - Artist Style\n",
        "https://github.com/kaikalii/stable-diffusion-artists"
      ]
    },
    {
      "cell_type": "markdown",
      "metadata": {
        "id": "TlkOs2c7OJ3X"
      },
      "source": [
        "# Stable Diffusion Prompt Template\n",
        "https://github.com/Dalabad/stable-diffusion-prompt-templates\n",
        "\n",
        "**Prompting is a skill. It takes practice, an artistic eye, and a poetic heart**. You should speak to ideas, metaphor, emotion, and energy. Your ability to prompt is not something someone can steal from you. **So if you share an image, please share your prompt and settings. Every prompt is a unique pen**. But it's a pen that's infinitely remixable by a hypercreative AI and the collective intelligence of humanity. The more we work together in generating cool prompts and seeing what works well, the better we ALL will be. \n",
        "\n",
        "Check this website [Lexica](https://lexica.art/) to get some inspiration regarding prompting. \n"
      ]
    },
    {
      "cell_type": "markdown",
      "metadata": {
        "id": "Rec-hJcHx2rX"
      },
      "source": [
        "# Prompt Emphasis\n",
        "[Cheat sheet](https://github.com/AUTOMATIC1111/stable-diffusion-webui/wiki/Features):\n",
        "\n",
        "NB: parenthesis `()` increases the emphasis, squared bracket `[]` decreases the emphasis.\n",
        "\n",
        "- a (word) - increase attention to word by a factor of 1.1\n",
        "- a ((word)) - increase attention to word by a factor of 1.21 (= 1.1 * 1.1)\n",
        "- a [word] - decrease attention to word by a factor of 1.1\n",
        "- a (word:1.5) - increase attention to word by a factor of 1.5\n",
        "- a (word:0.25) - decrease attention to word by a factor of 4 (= 1 / 0.25)\n",
        "- a \\(word\\) - use literal () characters in prompt\n",
        "\n",
        "With (), a weight can be specified like this: (text:1.4). If the weight is not specified, it is assumed to be 1.1. Specifying weight only works with () not with []."
      ]
    },
    {
      "cell_type": "markdown",
      "metadata": {
        "id": "QVfWlx50iOZV"
      },
      "source": [
        "# Classifier Free Guidance (CFG)\n",
        "Probably the coolest singular term to play with in Stable Diffusion. **CFG measures how much the AI will listen to your prompt vs doing its own thing**. Practically speaking, it is a measure of how confident you feel in your prompt. Here's a CFG value gut check:\n",
        "\n",
        "- CFG 2 - 6: Let the AI take the wheel.\n",
        "- CFG 7 - 11: Let's collaborate, AI! Default value is 7.\n",
        "- CFG 12 - 15: No, seriously, this is a good prompt. Just do what I say, AI.\n",
        "- CFG 16 - 20: DO WHAT I SAY OR ELSE, AI."
      ]
    },
    {
      "cell_type": "markdown",
      "metadata": {
        "id": "dhu7RV5B-JzW"
      },
      "source": [
        "# Denoising Strength\n",
        "Denoising strength used in the `img2img` tab: defines the standard deviation of the random noise added to the masked region. **The higher this parameter, the lower the similarity with the content in the unmasked portion of the image.**\n"
      ]
    },
    {
      "cell_type": "markdown",
      "metadata": {
        "id": "ZH_lUUl-kNas"
      },
      "source": [
        "# Sampling Method, Sampling Step, Batch Count, Batch Size\n",
        "\n",
        "## Sampling Method\n",
        "Commonly used sampling methods are:\n",
        "\n",
        "- **lms_karras** (The Old Reliable). Also called k_lms. lms_karras at 50 steps will give you fine generations most of the time if your prompt is good. k_lms runs pretty quick, so the results will come in at a good speed as well. You could easily just stick with this setting forever at CFG 7-8 and be ok. If things are coming out looking a little cursed, you could try a higher step value, like 80. But, as a rule of thumb, make sure your higher step value is actually getting you a benefit, and you're not just wasting your time. \n",
        "- **DDIM** (the speed demon!). **DDIM at 8 steps** (yes, you read that right. 8 steps) can get you great results at a blazing fast speed. This is a wonderful setting for generating a lot of images quickly.\n",
        "- **euler_a** (The Chameleon). Also called k_euler_a. Everything that applies to DDIM applies here as well. This sampler is also lightning fast and also gets great results at extremely low step counts (steps 8-16). But it also changes generation style a lot more. Your generation at step count 15 might look very different than step count 16. And then they might BOTH look very different than step count 30. And then THAT might be very different than step count 65. This sampler is wild. It's also worth noting here in general: your results will look TOTALLY different depending on what sampler you use. So don't be afraid to experiment. If you have a result you already like a lot in k_euler_a, pop it into DDIM (or vice versa).\n",
        "- **DPM2 Karras**. (The Starving Artist). \n",
        " Also called k_dpm_2_a. This sampler might be the best one, but it has serious tradeoffs. **It is VERY slow** compared to the ones mentioned above However, for the 30-80 step range which is very very good. It's a bad sampler for experimentation, but if you already have a prompt you love dialed in, let it rip. Just be prepared to wait. And wait. If you're still at the stage where you're adding and removing terms from a prompt, though, you should stick to k_euler_a or DDIM at a lower step count.\n",
        "\n",
        "NB: certain samplers are better at certain types of artwork. Some better at portraits, landscapes, etc. To be tested, but featuring your prompt is still your best bet.\n",
        "\n",
        "## Sampling Steps\n",
        "**Sampling steps**: start with 20 steps, and increase to 50 or 70 steps, no need to go all the way to 150 steps. **Many problems that can be solved with a higher step count can also be solved with better prompting**. If your subject's eyes are coming out terribly, try adding stuff to your prompt talking about their *\"symmetric highly detailed eyes, fantastic eyes, intricate eyes\"*,\n",
        "\n",
        "## Batch Count\n",
        "**Batch count**=how many images per batch, can make you run out of memory very fast!\n",
        "\n",
        "## Batch Size\n",
        "**Batch size**=how many batches we want to produce \n",
        "\n",
        "NB: A note on large batch sizes: Some people like to make 500 generations and choose, like, the best 4. I think in this situation you're better off reworking your prompt more. Most solid prompts I've seen get really good results within 10 generations.\n",
        "\n",
        "> batch size is how many images generated in one single generation. Batch count is how many generations.\n",
        "\n"
      ]
    },
    {
      "cell_type": "markdown",
      "metadata": {
        "id": "V3EP11c75TCa"
      },
      "source": [
        "# Script\n",
        "- **prompt matrix** enable you to create a variation and combination from different prompts, using a `|` to separate the prompts. i.e.: *a closeup portrait of a blonde woman with blue eyes, studio lighting, filmy, cinematic | Andy Warhol*.\n",
        "- **prompt from file or text box** It allows us to generate multiple images, from multiple promts. You can use a text file, or use the text prompt to create multiple prompts\n",
        "- **X/Y plot** allows you to create a grid of output images using a variation of the parameters of the model. When choosing this script, two types of selection items 'X Type' and 'Y Type' appeared.\n",
        "\n",
        "- "
      ]
    },
    {
      "cell_type": "markdown",
      "metadata": {
        "id": "vGut7NAAv6Ln"
      },
      "source": [
        "# Seed\n",
        "Seed in Stable Diffusion is a number used to initialize the generation. The default seed value of `-1` will give you a random generated image. You can also control the seed, by indicating a specific seed number, which will allow you to generate reproducible images.\n",
        "\n",
        "NB: The most important thing about seed is that generations with the same parameters, prompt, and seed will produce precisely the same images."
      ]
    },
    {
      "cell_type": "markdown",
      "metadata": {
        "id": "71PgPYn77V3U"
      },
      "source": [
        "# Errors\n",
        "If you encounter any issue or you want to update to latest webui version, remove the folder \"sd\" or \"stable-diffusion-webui\" from your GDrive (and GDrive trash) and rerun the colab."
      ]
    },
    {
      "cell_type": "markdown",
      "metadata": {
        "id": "35Pupt9lVAe_"
      },
      "source": [
        "# Resources\n",
        "- directory for stable diffusion /content/gdrive/MyDrive/sd\n",
        "- directory of the web user interface (Gradio) /content/gdrive/MyDrive/sd/stable-diffusion-webui\n",
        "- directory for models  /content/gdrive/MyDrive/sd/stable-diffusion-webui/models/Stable-diffusion/model.ckpt\n",
        "- directory for textual inversion process (/content/gdrive/MyDrive/sd/stable-diffusion-webui/textual_inversion/\n",
        "- directory for textual inversion chkpt /content/gdrive/MyDrive/sd/stable-diffusion-webui/embeddings\n",
        "- [sampling method output](https://wandb.ai/agatamlyn/basic-intro/reports/Stable-Diffusion-and-the-Samplers-Mystery--VmlldzoyNTc4MDky)\n",
        "- [Beginner/Intermediate Guide for Stable Diffusion](https://www.reddit.com/r/StableDiffusion/comments/x41n87/how_to_get_images_that_dont_suck_a/?utm_source=share&utm_medium=ios_app&utm_name=iossmf)\n",
        "- [How to write awsome stable diffusion prompts](https://www.howtogeek.com/833169/how-to-write-an-awesome-stable-diffusion-prompt/)\n",
        "- [The guide to fine-tuning stable diffusion with your own images](https://tryolabs.com/blog/2022/10/25/the-guide-to-fine-tuning-stable-diffusion-with-your-own-images)\n",
        "- [Stable Diffusion Prompt Templates](https://github.com/Dalabad/stable-diffusion-prompt-templates)\n",
        "- [Stable Diffusion Prompt Book](https://openart.ai/promptbook)\n",
        "- [Dream Studio](https://beta.dreamstudio.ai/dream)\n",
        "- [Stable Diffusion Help & FAQ](https://rentry.org/SD_help_FAQ)\n",
        "- [How to use Stable Diffusion V2.1 and Different Models in the Web UI - SD 1.5 vs 2.1 vs Anything V3](https://www.youtube.com/watch?v=aAyvsX-EpG4)\n",
        "- [Prompts engineering](https://moritz.pm/posts/parameters)\n",
        "- [HuggingFace Concepts Library](https://huggingface.co/spaces/sd-concepts-library/stable-diffusion-conceptualizer)"
      ]
    },
    {
      "cell_type": "markdown",
      "metadata": {
        "id": "4t4AjO9uTq9V"
      },
      "source": [
        "# References\n",
        "\n",
        "[Lexica](https://lexica.art/)\n",
        "\n",
        "[Vector Art](https://vectorart.ai/)\n",
        "\n",
        "[Dream Studio](https://beta.dreamstudio.ai/dream)\n",
        "\n",
        "[Stable Diffusion Infos](https://github.com/Maks-s/sd-akashic)\n",
        "\n",
        "[Understanding Stable Diffusion](https://artste.github.io/blog/posts/real-images-island/)\n",
        "\n",
        "[Stable Diffusion 2.1 trick - Using Midjourney style](https://www.youtube.com/watch?v=4E459tlwquU)\n",
        "\n",
        "[Textual Inversion - Your face inside all models](https://www.youtube.com/watch?v=2ityl_dNRNw)\n",
        "\n",
        "[Image Upscaler](https://stable-diffusion-art.com/ai-upscaler/)\n",
        "\n",
        "[SD Discord Server](https://discord.gg/stablediffusion)"
      ]
    },
    {
      "cell_type": "markdown",
      "metadata": {
        "id": "XihYda45op_q"
      },
      "source": [
        "# Mounting the Google Drive\n"
      ]
    },
    {
      "cell_type": "code",
      "execution_count": 1,
      "metadata": {
        "colab": {
          "base_uri": "https://localhost:8080/"
        },
        "id": "Y9EBc437WDOs",
        "outputId": "c68962e5-586b-414b-c7b9-5204a8b0c0c8"
      },
      "outputs": [
        {
          "output_type": "stream",
          "name": "stdout",
          "text": [
            "Mounted at /content/gdrive\n"
          ]
        }
      ],
      "source": [
        "from google.colab import drive\n",
        "drive.mount('/content/gdrive')"
      ]
    },
    {
      "cell_type": "code",
      "execution_count": 2,
      "metadata": {
        "cellView": "form",
        "colab": {
          "base_uri": "https://localhost:8080/",
          "height": 49,
          "referenced_widgets": [
            "6ac47bb887af4f8d96b5672b7aaecbb5",
            "74a5df39fbfb492b91d29a2e4ecea97f",
            "bb580b59ee3d4ee4bcb44fda99884882"
          ]
        },
        "id": "CFWtw-6EPrKi",
        "outputId": "4441e6c8-c167-423d-b466-b6228f60b2ac"
      },
      "outputs": [
        {
          "output_type": "display_data",
          "data": {
            "text/plain": [
              "Button(button_style='success', description='✔ Done', disabled=True, layout=Layout(min_width='50px'), style=But…"
            ],
            "application/vnd.jupyter.widget-view+json": {
              "version_major": 2,
              "version_minor": 0,
              "model_id": "6ac47bb887af4f8d96b5672b7aaecbb5"
            }
          },
          "metadata": {}
        }
      ],
      "source": [
        "#@markdown # Install/Update AUTOMATIC1111 repo\n",
        "from IPython.utils import capture\n",
        "from IPython.display import clear_output\n",
        "from subprocess import getoutput\n",
        "import ipywidgets as widgets\n",
        "import sys\n",
        "import fileinput\n",
        "import os\n",
        "import time\n",
        "\n",
        "if not os.path.exists(\"/content/gdrive/MyDrive/\"):\n",
        "  print('\u001b[1;31mGdrive not connected, using colab storage ...')\n",
        "  time.sleep(4)\n",
        "  !mkdir -p /content/gdrive/MyDrive/\n",
        "with capture.capture_output() as cap:\n",
        "  def inf(msg, style, wdth): inf = widgets.Button(description=msg, disabled=True, button_style=style, layout=widgets.Layout(min_width=wdth));display(inf)\n",
        "  fgitclone = \"git clone --depth 1\"\n",
        "  %mkdir -p /content/gdrive/MyDrive/sd\n",
        "  %cd /content/gdrive/MyDrive/sd\n",
        "  !$fgitclone -q --branch master https://github.com/AUTOMATIC1111/stable-diffusion-webui\n",
        "  !mkdir -p /content/gdrive/MyDrive/sd/stable-diffusion-webui/cache/huggingface\n",
        "  !ln -s /content/gdrive/MyDrive/sd/stable-diffusion-webui/cache/huggingface /root/.cache/\n",
        "\n",
        "with capture.capture_output() as cap:\n",
        "  %cd /content/gdrive/MyDrive/sd/stable-diffusion-webui/\n",
        "  !rm webui.sh\n",
        "  !git reset --hard\n",
        "print('\u001b[1;32m')\n",
        "!git pull\n",
        "clear_output()\n",
        "inf('\\u2714 Done','success', '50px')"
      ]
    },
    {
      "cell_type": "code",
      "execution_count": 3,
      "metadata": {
        "cellView": "form",
        "colab": {
          "base_uri": "https://localhost:8080/",
          "height": 49,
          "referenced_widgets": [
            "88dbd612f2f243d39a0e73b5d3670ae3",
            "0624bc20fdae43ffa76db951d9d85545",
            "2e1fd42007664d55afe194662bd84e8b"
          ]
        },
        "id": "ZGV_5H4xrOSp",
        "outputId": "39acd575-b362-4307-e2f1-f415ddea61ef"
      },
      "outputs": [
        {
          "output_type": "display_data",
          "data": {
            "text/plain": [
              "Button(button_style='success', description='✔ Done', disabled=True, layout=Layout(min_width='50px'), style=But…"
            ],
            "application/vnd.jupyter.widget-view+json": {
              "version_major": 2,
              "version_minor": 0,
              "model_id": "88dbd612f2f243d39a0e73b5d3670ae3"
            }
          },
          "metadata": {}
        }
      ],
      "source": [
        "#@markdown # Requirements\n",
        "\n",
        "print('\u001b[1;32mInstalling requirements...')\n",
        "\n",
        "with capture.capture_output() as cap:\n",
        "  %cd /content/ \n",
        "  !wget -q -i https://raw.githubusercontent.com/TheLastBen/fast-stable-diffusion/main/Dependencies/A1111.txt\n",
        "  !dpkg -i *.deb\n",
        "  if not os.path.exists('/content/gdrive/MyDrive/sd/stablediffusion'):\n",
        "    !tar -C / --zstd -xf sd.tar.zst \n",
        "  !tar -C / --zstd -xf A1111_dep.tar.zst\n",
        "  !rm *.deb | rm *.zst | rm *.txt\n",
        "\n",
        "clear_output()\n",
        "inf('\\u2714 Done','success', '50px')"
      ]
    },
    {
      "cell_type": "code",
      "execution_count": 4,
      "metadata": {
        "id": "lGi9udikRrzf"
      },
      "outputs": [],
      "source": [
        "# !pip list"
      ]
    },
    {
      "cell_type": "code",
      "execution_count": 5,
      "metadata": {
        "cellView": "form",
        "colab": {
          "base_uri": "https://localhost:8080/",
          "height": 49,
          "referenced_widgets": [
            "f5a92e7eaa474ecf938305fb324cc258",
            "e95739b4a77a4e73819034df1bd07702",
            "ea26d44e783345f9b3bca0ec60c18e00"
          ]
        },
        "id": "p4wj_txjP3TC",
        "outputId": "8b6fda4f-9e65-4fd9-c4b8-4d639c467e43"
      },
      "outputs": [
        {
          "output_type": "display_data",
          "data": {
            "text/plain": [
              "Button(button_style='primary', description='✔ Model already exists, check the box \"Redownload_the_original_mod…"
            ],
            "application/vnd.jupyter.widget-view+json": {
              "version_major": 2,
              "version_minor": 0,
              "model_id": "f5a92e7eaa474ecf938305fb324cc258"
            }
          },
          "metadata": {}
        }
      ],
      "source": [
        "#@markdown # Model Download/Load\n",
        "Model_Version = \"V2.1-768px\" #@param [ \"1.5\", \"v1.5 Inpainting \", \"V2.1-512px\", \"V2.1-768px\"]\n",
        "\n",
        "Redownload_the_original_model = False #@param {type:\"boolean\"}\n",
        "\n",
        "if Redownload_the_original_model:\n",
        "  with capture.capture_output() as cap:\n",
        "    def rmv():\n",
        "      !wget -q -O /content/gdrive/MyDrive/sd/stable-diffusion-webui/models/Stable-diffusion/model.ckpt https://raw.githubusercontent.com/TheLastBen/fast-stable-diffusion/main/precompiled/README.md\n",
        "      !mv /content/gdrive/MyDrive/sd/stable-diffusion-webui/models/Stable-diffusion/model.ckpt /content/gdrive/MyDrive/sd/stable-diffusion-webui/models/Stable-diffusion/trashfile.f\n",
        "      time.sleep(2)\n",
        "      !rm /content/gdrive/MyDrive/sd/stable-diffusion-webui/models/Stable-diffusion/trashfile.f\n",
        "      clear_output()\n",
        "    rmv()\n",
        "\n",
        "#@markdown Or\n",
        "Path_to_MODEL = \"\" #@param {type:\"string\"}\n",
        "#@markdown - Insert the full path of your trained model or to a folder containing multiple models.\n",
        "\n",
        "#@markdown Or\n",
        "MODEL_LINK = \"\" #@param {type:\"string\"}\n",
        "safetensors = False #@param {type:\"boolean\"}\n",
        "Use_temp_storage = False #@param {type:\"boolean\"}\n",
        "\n",
        "\n",
        "\n",
        "def newmdl():\n",
        "\n",
        "    if not os.path.exists('/content/gdrive/MyDrive/sd/stable-diffusion-webui/models/Stable-diffusion/model.ckpt'):\n",
        "      %cd /content/\n",
        "      clear_output()\n",
        "      !git init\n",
        "      !git lfs install --system --skip-repo\n",
        "      !$fgitclone --branch fp16 \"https://huggingface.co/runwayml/stable-diffusion-v1-5\"\n",
        "      if os.path.exists('/content/stable-diffusion-v1-5'):\n",
        "        !$fgitclone \"https://huggingface.co/stabilityai/sd-vae-ft-mse\"\n",
        "        !rm -r /content/stable-diffusion-v1-5/vae\n",
        "        !mv /content/sd-vae-ft-mse /content/stable-diffusion-v1-5/vae\n",
        "        !wget -O convertosd.py https://github.com/TheLastBen/fast-stable-diffusion/raw/main/Dreambooth/convertosd.py\n",
        "        !sed -i '201s@.*@    model_path = \"/content/stable-diffusion-v1-5\"@' /content/convertosd.py\n",
        "        !sed -i '202s@.*@    checkpoint_path= \"/content/gdrive/MyDrive/sd/stable-diffusion-webui/models/Stable-diffusion/model.ckpt\"@' /content/convertosd.py\n",
        "        clear_output()       \n",
        "        !python /content/convertosd.py\n",
        "        !rm /content/convertosd.py\n",
        "        if os.path.exists('/content/gdrive/MyDrive/sd/stable-diffusion-webui/models/Stable-diffusion/model.ckpt'):\n",
        "          model='/content/gdrive/MyDrive/sd/stable-diffusion-webui/models/Stable-diffusion/model.ckpt'\n",
        "          clear_output()\n",
        "          inf('\\u2714 Done','success', '50px')\n",
        "        else:\n",
        "          inf('\\u2718 Something went wrong, try again','danger', \"250px\")\n",
        "      else:\n",
        "        inf('\\u2718 Something went wrong','danger', \"200px\")\n",
        "\n",
        "    else:\n",
        "      model='/content/gdrive/MyDrive/sd/stable-diffusion-webui/models/Stable-diffusion/model.ckpt'\n",
        "      clear_output()\n",
        "      inf('\\u2714 Model already exists, check the box \"Redownload_the_original_model\" to redownload/download the V1.5','primary', '700px')\n",
        "\n",
        "    if os.path.exists('/content/.git'):\n",
        "      !rm -r /content/.git\n",
        "\n",
        "    if os.path.exists('/content/stable-diffusion-v1-5'):\n",
        "      !rm -r /content/stable-diffusion-v1-5\n",
        "\n",
        "    return model\n",
        "\n",
        "def V2():\n",
        "\n",
        "    if not os.path.exists('/content/gdrive/MyDrive/sd/stable-diffusion-webui/models/Stable-diffusion/model.ckpt'):\n",
        "      %cd /content/\n",
        "      clear_output()\n",
        "      !mkdir \"/content/stable-diffusion-V2\"\n",
        "      %cd \"/content/stable-diffusion-V2\"\n",
        "      !git init\n",
        "      !git lfs install --system --skip-repo\n",
        "      if Model_Version == \"V2.1-768px\":\n",
        "        !git remote add -f origin  \"https://huggingface.co/stabilityai/stable-diffusion-2-1\"\n",
        "      elif Model_Version == \"V2.1-512px\":\n",
        "        !git remote add -f origin  \"https://huggingface.co/stabilityai/stable-diffusion-2-1-base\"\n",
        "      !git config core.sparsecheckout true\n",
        "      !echo -e \"scheduler\\ntext_encoder\\ntokenizer\\nunet\\nvae\\nfeature_extractor\\nmodel_index.json\\n!*.safetensors\" > .git/info/sparse-checkout\n",
        "      !git pull origin fp16\n",
        "      %cd /content\n",
        "      !wget -O convertosdv2.py https://github.com/TheLastBen/fast-stable-diffusion/raw/main/Dreambooth/convertosdv2.py\n",
        "      clear_output()\n",
        "      !python /content/convertosdv2.py --fp16 /content/stable-diffusion-V2 /content/gdrive/MyDrive/sd/stable-diffusion-webui/models/Stable-diffusion/model.ckpt\n",
        "      !rm /content/convertosdv2.py\n",
        "      if os.path.exists('/content/gdrive/MyDrive/sd/stable-diffusion-webui/models/Stable-diffusion/model.ckpt'):\n",
        "        model='/content/gdrive/MyDrive/sd/stable-diffusion-webui/models/Stable-diffusion/model.ckpt'\n",
        "        clear_output()\n",
        "        inf('\\u2714 Done','success', '50px')\n",
        "      else:\n",
        "        inf('\\u2718 Something went wrong, try again','danger', \"250px\")\n",
        "\n",
        "    else:\n",
        "      model='/content/gdrive/MyDrive/sd/stable-diffusion-webui/models/Stable-diffusion/model.ckpt'\n",
        "      clear_output()\n",
        "      inf('\\u2714 Model already exists, check the box \"Redownload_the_original_model\" to redownload/download the V2','primary', '700px')\n",
        "\n",
        "    if os.path.exists('/content/.git'):\n",
        "      !rm -r /content/.git\n",
        "      !rm -r /content/convertosdv2.py\n",
        "    if os.path.exists('/content/stable-diffusion-V2'):\n",
        "      !rm -r /content/stable-diffusion-V2\n",
        "\n",
        "    return model\n",
        "\n",
        "def inpmdl():\n",
        "\n",
        "    if not os.path.exists('/content/gdrive/MyDrive/sd/stable-diffusion-webui/models/Stable-diffusion/sd-v1-5-inpainting.ckpt'):\n",
        "      %cd /content/\n",
        "      clear_output()\n",
        "      !git init\n",
        "      !git lfs install --system --skip-repo\n",
        "      !$fgitclone --branch fp16 \"https://huggingface.co/runwayml/stable-diffusion-inpainting\"\n",
        "      if os.path.exists('/content/stable-diffusion-inpainting'):\n",
        "        !$fgitclone \"https://huggingface.co/stabilityai/sd-vae-ft-mse\"\n",
        "        !rm -r /content/stable-diffusion-inpainting/vae\n",
        "        !mv /content/sd-vae-ft-mse /content/stable-diffusion-inpainting/vae        \n",
        "        !wget -O convertosd.py https://github.com/TheLastBen/fast-stable-diffusion/raw/main/Dreambooth/convertosd.py\n",
        "        !sed -i '201s@.*@    model_path = \"/content/stable-diffusion-inpainting\"@' /content/convertosd.py\n",
        "        !sed -i '202s@.*@    checkpoint_path= \"/content/gdrive/MyDrive/sd/stable-diffusion-webui/models/Stable-diffusion/sd-v1-5-inpainting.ckpt\"@' /content/convertosd.py\n",
        "        clear_output()       \n",
        "        !python /content/convertosd.py\n",
        "        !rm /content/convertosd.py\n",
        "        if os.path.exists('/content/gdrive/MyDrive/sd/stable-diffusion-webui/models/Stable-diffusion/sd-v1-5-inpainting.ckpt'):\n",
        "          clear_output()\n",
        "          inf('\\u2714 Done','success', '50px')\n",
        "        else:\n",
        "          inf('\\u2718 Something went wrong, try again','danger', \"250px\")\n",
        "      else:\n",
        "        inf('\\u2718 Something went wrong','danger', \"200px\")\n",
        "\n",
        "\n",
        "    else:\n",
        "      clear_output()\n",
        "      inf('\\u2714 inpainting model already exists','primary', '250px')\n",
        "\n",
        "    if os.path.exists('/content/.git'):\n",
        "      !rm -r /content/.git\n",
        "\n",
        "    if os.path.exists('/content/stable-diffusion-inpainting'):\n",
        "      !rm -r /content/stable-diffusion-inpainting\n",
        "\n",
        "    return model\n",
        "\n",
        "if (Path_to_MODEL !=''):\n",
        "  if os.path.exists(str(Path_to_MODEL)):\n",
        "    inf('\\u2714 Using the trained model.','success', '200px')\n",
        "\n",
        "  else:\n",
        "      while not os.path.exists(str(Path_to_MODEL)):\n",
        "        inf('\\u2718 Wrong path, use the colab file explorer to copy the path : ','danger', \"400px\")\n",
        "        Path_to_MODEL=input()\n",
        "      if os.path.exists(str(Path_to_MODEL)):\n",
        "        inf('\\u2714 Using the trained model.','success', '200px')\n",
        "\n",
        "  model=Path_to_MODEL\n",
        "\n",
        "elif MODEL_LINK != \"\":\n",
        "  gdrv=\"/content/gdrive/MyDrive/sd/stable-diffusion-webui/models/Stable-diffusion\"\n",
        "  tmp=\"/content\"\n",
        "  pth=tmp if Use_temp_storage else gdrv\n",
        "  %cd $pth\n",
        "  clear_output()\n",
        "  if not safetensors:\n",
        "    modelname=\"model.ckpt\"\n",
        "  else:\n",
        "    modelname=\"model.safetensors\"\n",
        "  !gdown --fuzzy -O $modelname $MODEL_LINK\n",
        "  if os.path.exists(f'{pth}/{modelname}') and os.path.getsize(f'{pth}/{modelname}') > 1810671599:    \n",
        "      model=f'{pth}/{modelname}'\n",
        "      clear_output()\n",
        "      inf('\\u2714 Model downloaded, using the trained model.','success', '350px')\n",
        "  else:\n",
        "    if Use_temp_storage:\n",
        "      !rm $pth/$modelname\n",
        "    else:\n",
        "      rmv()\n",
        "    inf('\\u2718 Wrong link, check that the link is valid','danger', \"300px\")\n",
        "\n",
        "\n",
        "elif Model_Version==\"1.5\":\n",
        "  model=newmdl()\n",
        "\n",
        "elif Model_Version==\"V2.1-512px\" or Model_Version==\"V2.1-768px\":\n",
        "  model=V2()\n",
        "\n",
        "else:\n",
        "  if not os.path.exists(\"/content/gdrive/MyDrive/sd/stable-diffusion-webui/models/Stable-diffusion/sd-v1-5-inpainting.ckpt\"):\n",
        "    model=inpmdl()\n",
        "  else:\n",
        "    inf('\\u2714 Inpainting model already exists','success', '250px')"
      ]
    },
    {
      "cell_type": "code",
      "execution_count": null,
      "metadata": {
        "colab": {
          "base_uri": "https://localhost:8080/"
        },
        "id": "PjzwxTkPSPHf",
        "outputId": "eafdf41e-e3c1-49b3-cc4f-5769b9986059"
      },
      "outputs": [
        {
          "output_type": "stream",
          "name": "stdout",
          "text": [
            "Loading weights [43c90409bd] from /content/gdrive/MyDrive/sd/stable-diffusion-webui/models/Stable-diffusion/model.ckpt\n",
            "Creating model from config: /content/gdrive/MyDrive/sd/stablediffusion/configs/stable-diffusion/v2-inference-v.yaml\n",
            "LatentDiffusion: Running in v-prediction mode\n",
            "DiffusionWrapper has 865.91 M params.\n",
            "Applying xformers cross attention optimization.\n",
            "Textual inversion embeddings loaded(49): midjourney, flonixsdviewv3, dblx, TungstenDispo, EMB_baya-50, EMB_baya-100, EMB_baya-150, EMB_baya-200, EMB_baya-250, EMB_baya-300, EMB_baya-350, EMB_baya-400, EMB_baya-450, EMB_baya-500, EMB_baya-550, EMB_baya-600, EMB_baya-650, EMB_baya-700, EMB_baya-750, EMB_baya-800, EMB_baya-850, EMB_baya-900, EMB_baya-950, EMB_baya-1000, EMB_baya-1050, EMB_baya-1100, EMB_baya-1150, EMB_baya-1200, EMB_baya-1250, EMB_baya-1300, EMB_baya-1350, EMB_baya-1400, EMB_baya-1450, EMB_baya-1500, EMB_baya-1550, EMB_baya-1600, EMB_baya-1650, EMB_baya-1700, EMB_baya-1750, EMB_baya-1800, EMB_baya-1850, EMB_baya-1900, EMB_baya-1950, EMB_baya-2000, EMB_baya, EMB_person, EMB_person-2850, EMB_person-2050, EMB_person-2200\n",
            "Textual inversion embeddings skipped(1): learned_embeds\n",
            "Model loaded in 109.7s (load weights from disk: 61.0s, find config: 4.4s, load config: 1.7s, create model: 0.4s, apply weights to model: 2.2s, apply half(): 1.0s, load VAE: 3.8s, move model to device: 0.7s, load textual inversion embeddings: 34.6s).\n",
            "Running on public URL: https://67b80894-8ff9-4780.gradio.live\n",
            "\u001b[32m✔ Connected\n",
            "100% 20/20 [00:08<00:00,  2.23it/s]\n",
            "100% 20/20 [00:02<00:00,  7.14it/s]\n",
            "100% 20/20 [00:02<00:00,  7.09it/s]\n",
            "100% 20/20 [00:02<00:00,  7.17it/s]\n",
            "100% 20/20 [00:02<00:00,  7.02it/s]\n",
            "100% 20/20 [00:02<00:00,  7.15it/s]\n",
            "100% 20/20 [00:02<00:00,  7.00it/s]\n",
            "100% 20/20 [00:02<00:00,  7.05it/s]\n",
            "100% 20/20 [00:03<00:00,  6.42it/s]\n",
            "100% 16/16 [00:02<00:00,  7.11it/s]\n",
            "SD upscaling will process a total of 1 images tiled as 1x1 per upscale in a total of 1 batches.\n",
            "100% 16/16 [00:02<00:00,  7.19it/s]\n",
            "SwinIR tiles100% 9/9 [00:13<00:00,  1.54s/it]\n",
            "SD upscaling will process a total of 9 images tiled as 3x3 per upscale in a total of 9 batches.\n",
            "100% 16/16 [00:04<00:00,  3.67it/s]\n",
            "100% 16/16 [00:02<00:00,  6.46it/s]\n",
            "100% 16/16 [00:02<00:00,  6.49it/s]\n",
            "100% 16/16 [00:02<00:00,  6.57it/s]\n",
            "100% 16/16 [00:02<00:00,  6.53it/s]\n",
            "100% 16/16 [00:02<00:00,  6.49it/s]\n",
            "100% 16/16 [00:02<00:00,  6.37it/s]\n",
            "100% 16/16 [00:02<00:00,  5.95it/s]\n",
            "100% 16/16 [00:02<00:00,  6.45it/s]\n",
            "\tTile 1/9\n",
            "\tTile 2/9\n",
            "\tTile 3/9\n",
            "\tTile 4/9\n",
            "\tTile 5/9\n",
            "\tTile 6/9\n",
            "\tTile 7/9\n",
            "\tTile 8/9\n",
            "\tTile 9/9\n",
            "100% 20/20 [00:02<00:00,  6.77it/s]\n",
            "100% 20/20 [00:02<00:00,  7.08it/s]\n",
            "100% 20/20 [00:03<00:00,  6.45it/s]\n",
            "100% 20/20 [00:02<00:00,  6.88it/s]\n",
            "100% 20/20 [00:02<00:00,  7.06it/s]\n",
            "100% 20/20 [00:03<00:00,  6.56it/s]\n",
            "100% 20/20 [00:02<00:00,  6.89it/s]\n",
            "100% 20/20 [00:02<00:00,  6.82it/s]\n",
            "100% 50/50 [00:07<00:00,  6.62it/s]\n",
            "100% 50/50 [00:07<00:00,  6.59it/s]\n",
            "100% 50/50 [00:07<00:00,  7.03it/s]\n",
            "100% 50/50 [00:28<00:00,  1.77it/s]\n",
            "100% 20/20 [00:09<00:00,  2.09it/s]\n",
            "100% 20/20 [00:09<00:00,  2.12it/s]\n",
            "100% 20/20 [00:09<00:00,  2.12it/s]\n",
            "100% 20/20 [00:09<00:00,  2.11it/s]\n",
            "100% 20/20 [00:03<00:00,  6.63it/s]\n",
            "100% 20/20 [00:03<00:00,  6.52it/s]\n",
            "100% 20/20 [00:03<00:00,  6.49it/s]\n",
            "100% 20/20 [00:02<00:00,  7.11it/s]\n",
            "100% 20/20 [00:03<00:00,  6.52it/s]\n",
            "100% 20/20 [00:03<00:00,  6.43it/s]\n",
            "SwinIR tiles100% 9/9 [00:09<00:00,  1.11s/it]\n",
            "100% 20/20 [00:03<00:00,  6.48it/s]\n",
            "100% 20/20 [00:02<00:00,  7.15it/s]\n",
            "100% 20/20 [00:03<00:00,  6.49it/s]\n",
            "100% 20/20 [00:02<00:00,  6.86it/s]\n",
            "Data shape for DDIM sampling is (1, 4, 64, 64), eta 0.0\n",
            "Running DDIM Sampling with 20 timesteps\n",
            "DDIM Sampler100% 20/20 [00:03<00:00,  5.99it/s]\n",
            "Data shape for DDIM sampling is (1, 4, 64, 64), eta 0.0\n",
            "Running DDIM Sampling with 20 timesteps\n",
            "DDIM Sampler100% 20/20 [00:03<00:00,  6.33it/s]\n",
            "100% 20/20 [00:02<00:00,  7.12it/s]\n",
            "100% 20/20 [00:02<00:00,  7.09it/s]\n",
            "100% 20/20 [00:09<00:00,  2.10it/s]\n",
            "100% 20/20 [00:09<00:00,  2.11it/s]\n",
            "100% 20/20 [00:09<00:00,  2.10it/s]\n",
            "100% 20/20 [00:09<00:00,  2.07it/s]\n",
            "100% 20/20 [00:03<00:00,  6.42it/s]\n",
            "100% 20/20 [00:02<00:00,  6.73it/s]\n",
            "100% 20/20 [00:03<00:00,  6.59it/s]\n",
            "100% 20/20 [00:03<00:00,  6.65it/s]\n",
            "100% 20/20 [00:03<00:00,  6.45it/s]\n",
            "100% 20/20 [00:03<00:00,  6.56it/s]\n",
            "100% 20/20 [00:03<00:00,  6.55it/s]\n",
            "100% 20/20 [00:03<00:00,  6.55it/s]\n",
            "100% 20/20 [00:03<00:00,  6.34it/s]\n",
            "100% 20/20 [00:03<00:00,  6.41it/s]\n",
            "100% 20/20 [00:03<00:00,  6.46it/s]\n",
            "Data shape for DDIM sampling is (1, 4, 64, 64), eta 0.0\n",
            "Running DDIM Sampling with 50 timesteps\n",
            "DDIM Sampler100% 50/50 [00:08<00:00,  6.11it/s]\n",
            "Data shape for DDIM sampling is (1, 4, 64, 64), eta 0.0\n",
            "Running DDIM Sampling with 50 timesteps\n",
            "DDIM Sampler100% 50/50 [00:08<00:00,  6.11it/s]\n",
            "Data shape for DDIM sampling is (1, 4, 64, 64), eta 0.0\n",
            "Running DDIM Sampling with 50 timesteps\n",
            "DDIM Sampler100% 50/50 [00:08<00:00,  6.01it/s]\n",
            "Data shape for DDIM sampling is (1, 4, 64, 64), eta 0.0\n",
            "Running DDIM Sampling with 50 timesteps\n",
            "DDIM Sampler100% 50/50 [00:08<00:00,  6.13it/s]\n",
            "100% 50/50 [00:07<00:00,  6.39it/s]\n",
            "100% 50/50 [00:07<00:00,  6.48it/s]\n",
            "100% 50/50 [00:07<00:00,  6.57it/s]\n",
            "100% 50/50 [00:07<00:00,  6.53it/s]\n",
            "100% 20/20 [00:03<00:00,  6.46it/s]\n",
            "100% 20/20 [00:03<00:00,  6.32it/s]\n",
            "100% 20/20 [00:03<00:00,  6.47it/s]\n",
            "100% 20/20 [00:03<00:00,  6.52it/s]\n",
            "100% 12/12 [00:01<00:00,  6.00it/s]\n",
            "100% 12/12 [00:01<00:00,  6.07it/s]\n",
            "100% 12/12 [00:02<00:00,  5.90it/s]\n",
            "100% 12/12 [00:01<00:00,  6.06it/s]\n",
            "100% 12/12 [00:01<00:00,  6.11it/s]\n",
            "100% 12/12 [00:01<00:00,  6.12it/s]\n",
            "100% 29/29 [00:04<00:00,  6.04it/s]\n",
            "100% 29/29 [00:04<00:00,  6.10it/s]\n",
            "100% 29/29 [00:04<00:00,  6.00it/s]\n",
            "100% 20/20 [00:03<00:00,  6.49it/s]\n",
            "100% 20/20 [00:08<00:00,  2.38it/s]\n",
            "100% 20/20 [00:04<00:00,  4.32it/s]\n",
            "100% 20/20 [00:04<00:00,  4.26it/s]\n",
            "100% 20/20 [00:04<00:00,  4.18it/s]\n",
            "100% 20/20 [00:04<00:00,  4.23it/s]\n",
            "100% 20/20 [00:04<00:00,  4.21it/s]\n",
            "100% 20/20 [00:04<00:00,  4.23it/s]\n",
            "100% 12/12 [00:06<00:00,  1.97it/s]\n",
            "100% 12/12 [00:02<00:00,  4.14it/s]\n",
            "100% 12/12 [00:02<00:00,  4.13it/s]\n",
            "100% 12/12 [00:02<00:00,  4.12it/s]\n",
            "100% 12/12 [00:02<00:00,  4.13it/s]\n",
            "100% 12/12 [00:02<00:00,  4.13it/s]\n",
            "100% 12/12 [00:02<00:00,  4.09it/s]\n",
            "100% 12/12 [00:02<00:00,  4.07it/s]\n",
            "100% 12/12 [00:02<00:00,  4.13it/s]\n",
            "100% 12/12 [00:02<00:00,  4.11it/s]\n",
            "100% 12/12 [00:02<00:00,  4.12it/s]\n",
            "100% 12/12 [00:02<00:00,  4.41it/s]\n",
            "100% 12/12 [00:02<00:00,  4.40it/s]\n",
            "100% 12/12 [00:02<00:00,  4.35it/s]\n",
            "100% 12/12 [00:02<00:00,  4.31it/s]\n",
            "100% 12/12 [00:02<00:00,  4.24it/s]\n",
            "100% 12/12 [00:02<00:00,  4.20it/s]\n",
            "100% 12/12 [00:02<00:00,  4.33it/s]\n",
            "100% 12/12 [00:02<00:00,  4.33it/s]\n",
            "100% 12/12 [00:02<00:00,  4.32it/s]\n",
            "100% 12/12 [00:02<00:00,  4.29it/s]\n",
            "100% 12/12 [00:02<00:00,  4.35it/s]\n",
            "100% 33/33 [00:07<00:00,  4.30it/s]\n",
            "100% 33/33 [00:07<00:00,  4.25it/s]\n",
            "100% 20/20 [00:04<00:00,  4.37it/s]\n",
            "100% 20/20 [00:04<00:00,  4.32it/s]\n",
            "100% 20/20 [00:04<00:00,  4.30it/s]\n",
            "100% 20/20 [00:04<00:00,  4.58it/s]\n",
            "100% 20/20 [00:02<00:00,  6.88it/s]\n",
            "100% 20/20 [00:09<00:00,  2.00it/s]\n",
            "100% 20/20 [00:09<00:00,  2.08it/s]\n",
            "100% 20/20 [00:10<00:00,  2.00it/s]\n",
            "100% 20/20 [00:10<00:00,  1.95it/s]\n",
            "Closing server running on port: 7860\n",
            "Restarting UI...\n",
            "Running on public URL: https://0900fd8f-073b-41b7.gradio.live\n",
            "\u001b[32m✔ Connected\n",
            "Interrupted with signal 2 in <frame at 0xabc9f220, file '/content/gdrive/MyDrive/sd/stable-diffusion-webui/webui.py', line 173, code wait_on_server>\n"
          ]
        }
      ],
      "source": [
        "#@markdown # Start stable-diffusion\n",
        "from IPython.utils import capture\n",
        "import time\n",
        "import sys\n",
        "import fileinput\n",
        "\n",
        "Model_Version = \"V2.1-768\" #@param [\"1.5\", \"V2.1-512\", \"V2.1-768\"]\n",
        "#@markdown  - Important! Choose the correct version and resolution of the model\n",
        "\n",
        "Use_localtunnel = False #@param {type:\"boolean\"}\n",
        "\n",
        "User = \"\" #@param {type:\"string\"}\n",
        "Password= \"\" #@param {type:\"string\"}\n",
        "#@markdown - Add credentials to your Gradio interface (optional).\n",
        "\n",
        "auth=f\"--gradio-auth {User}:{Password}\"\n",
        "if User ==\"\" or Password==\"\":\n",
        "  auth=\"\"\n",
        " \n",
        "with capture.capture_output() as cap:\n",
        "  if not os.path.exists('/tools/node/bin/lt'):\n",
        "    !npm install -g localtunnel\n",
        "\n",
        "with capture.capture_output() as cap:\n",
        "  %cd /content/gdrive/MyDrive/sd/stable-diffusion-webui/modules/\n",
        "  !wget -O paths.py https://raw.githubusercontent.com/TheLastBen/fast-stable-diffusion/main/AUTOMATIC1111_files/paths.py\n",
        "  !wget -O extras.py https://raw.githubusercontent.com/AUTOMATIC1111/stable-diffusion-webui/master/modules/extras.py\n",
        "  !wget -O sd_models.py https://raw.githubusercontent.com/AUTOMATIC1111/stable-diffusion-webui/master/modules/sd_models.py\n",
        "  %cd /content/gdrive/MyDrive/sd/stable-diffusion-webui/\n",
        "\n",
        "  !sed -i \"s@os.path.splitext(checkpoint_file)@os.path.splitext(checkpoint_file); map_location='cuda' if os.path.getsize(checkpoint_file) > 5500000000 else map_location@\" /content/gdrive/MyDrive/sd/stable-diffusion-webui/modules/sd_models.py\n",
        "  !sed -i 's@ui.create_ui().*@ui.create_ui();shared.demo.queue(concurrency_count=999999,status_update_rate=0.1)@' /content/gdrive/MyDrive/sd/stable-diffusion-webui/webui.py\n",
        "  !sed -i \"s@map_location='cpu'@map_location='cuda'@\" /content/gdrive/MyDrive/sd/stable-diffusion-webui/modules/extras.py\n",
        "\n",
        "share=''\n",
        "if not Use_localtunnel:\n",
        "  share='--share'\n",
        "  !wget -q -O /usr/local/lib/python3.8/dist-packages/gradio/blocks.py https://raw.githubusercontent.com/TheLastBen/fast-stable-diffusion/main/AUTOMATIC1111_files/blocks.py\n",
        "\n",
        "else:\n",
        "  with capture.capture_output() as cap:\n",
        "    share=''\n",
        "    %cd /content\n",
        "    !nohup lt --port 7860 > srv.txt 2>&1 &\n",
        "    time.sleep(2)\n",
        "    !grep -o 'https[^ ]*' /content/srv.txt >srvr.txt\n",
        "    time.sleep(2)\n",
        "    srv= getoutput('cat /content/srvr.txt')\n",
        "\n",
        "    for line in fileinput.input('/usr/local/lib/python3.8/dist-packages/gradio/blocks.py', inplace=True):\n",
        "      if line.strip().startswith('self.server_name ='):\n",
        "          line = f'            self.server_name = \"{srv[8:]}\"\\n'\n",
        "      if line.strip().startswith('self.protocol = \"https\"'):\n",
        "          line = '            self.protocol = \"https\"\\n'\n",
        "      if line.strip().startswith('if self.local_url.startswith(\"https\") or self.is_colab'):\n",
        "          line = ''\n",
        "      if line.strip().startswith('else \"http\"'):\n",
        "          line = ''\n",
        "      sys.stdout.write(line)\n",
        "            \n",
        "    !rm /content/srv.txt\n",
        "    !rm /content/srvr.txt\n",
        "    %cd /content/gdrive/MyDrive/sd/stable-diffusion-webui\n",
        "\n",
        "if Model_Version == \"V2.1-768\":\n",
        "  configf=\"--config /content/gdrive/MyDrive/sd/stablediffusion/configs/stable-diffusion/v2-inference-v.yaml --disable-console-progressbars\"\n",
        "elif Model_Version == \"V2.1-512\":\n",
        "  configf=\"--config /content/gdrive/MyDrive/sd/stablediffusion/configs/stable-diffusion/v2-inference.yaml --disable-console-progressbars\"\n",
        "else:\n",
        "  configf=\"--disable-console-progressbars\"\n",
        "\n",
        "if os.path.exists('/usr/local/lib/python3.8/dist-packages/xformers'):\n",
        "  xformers=\"--xformers\"\n",
        "else:\n",
        "  xformers=\"\"\n",
        "\n",
        "try:\n",
        "  model\n",
        "  if os.path.isfile(model):\n",
        "    !python /content/gdrive/MyDrive/sd/stable-diffusion-webui/webui.py $share --api --disable-safe-unpickle --enable-insecure-extension-access --no-half-vae  --ckpt \"$model\" $configf $xformers $auth\n",
        "  else:\n",
        "    !python /content/gdrive/MyDrive/sd/stable-diffusion-webui/webui.py $share --api --disable-safe-unpickle --enable-insecure-extension-access --no-half-vae  --ckpt-dir \"$model\" $configf $xformers $auth\n",
        "except:\n",
        "   !python /content/gdrive/MyDrive/sd/stable-diffusion-webui/webui.py $share --api --disable-safe-unpickle --enable-insecure-extension-access --no-half-vae $configf $xformers $auth"
      ]
    },
    {
      "cell_type": "code",
      "execution_count": null,
      "metadata": {
        "id": "zkdGWL6q5fSI"
      },
      "outputs": [],
      "source": []
    }
  ],
  "metadata": {
    "accelerator": "GPU",
    "colab": {
      "provenance": [],
      "include_colab_link": true
    },
    "gpuClass": "standard",
    "kernelspec": {
      "display_name": "Python 3",
      "name": "python3"
    },
    "language_info": {
      "name": "python"
    },
    "widgets": {
      "application/vnd.jupyter.widget-state+json": {
        "6ac47bb887af4f8d96b5672b7aaecbb5": {
          "model_module": "@jupyter-widgets/controls",
          "model_name": "ButtonModel",
          "model_module_version": "1.5.0",
          "state": {
            "_dom_classes": [],
            "_model_module": "@jupyter-widgets/controls",
            "_model_module_version": "1.5.0",
            "_model_name": "ButtonModel",
            "_view_count": null,
            "_view_module": "@jupyter-widgets/controls",
            "_view_module_version": "1.5.0",
            "_view_name": "ButtonView",
            "button_style": "success",
            "description": "✔ Done",
            "disabled": true,
            "icon": "",
            "layout": "IPY_MODEL_74a5df39fbfb492b91d29a2e4ecea97f",
            "style": "IPY_MODEL_bb580b59ee3d4ee4bcb44fda99884882",
            "tooltip": ""
          }
        },
        "74a5df39fbfb492b91d29a2e4ecea97f": {
          "model_module": "@jupyter-widgets/base",
          "model_name": "LayoutModel",
          "model_module_version": "1.2.0",
          "state": {
            "_model_module": "@jupyter-widgets/base",
            "_model_module_version": "1.2.0",
            "_model_name": "LayoutModel",
            "_view_count": null,
            "_view_module": "@jupyter-widgets/base",
            "_view_module_version": "1.2.0",
            "_view_name": "LayoutView",
            "align_content": null,
            "align_items": null,
            "align_self": null,
            "border": null,
            "bottom": null,
            "display": null,
            "flex": null,
            "flex_flow": null,
            "grid_area": null,
            "grid_auto_columns": null,
            "grid_auto_flow": null,
            "grid_auto_rows": null,
            "grid_column": null,
            "grid_gap": null,
            "grid_row": null,
            "grid_template_areas": null,
            "grid_template_columns": null,
            "grid_template_rows": null,
            "height": null,
            "justify_content": null,
            "justify_items": null,
            "left": null,
            "margin": null,
            "max_height": null,
            "max_width": null,
            "min_height": null,
            "min_width": "50px",
            "object_fit": null,
            "object_position": null,
            "order": null,
            "overflow": null,
            "overflow_x": null,
            "overflow_y": null,
            "padding": null,
            "right": null,
            "top": null,
            "visibility": null,
            "width": null
          }
        },
        "bb580b59ee3d4ee4bcb44fda99884882": {
          "model_module": "@jupyter-widgets/controls",
          "model_name": "ButtonStyleModel",
          "model_module_version": "1.5.0",
          "state": {
            "_model_module": "@jupyter-widgets/controls",
            "_model_module_version": "1.5.0",
            "_model_name": "ButtonStyleModel",
            "_view_count": null,
            "_view_module": "@jupyter-widgets/base",
            "_view_module_version": "1.2.0",
            "_view_name": "StyleView",
            "button_color": null,
            "font_weight": ""
          }
        },
        "88dbd612f2f243d39a0e73b5d3670ae3": {
          "model_module": "@jupyter-widgets/controls",
          "model_name": "ButtonModel",
          "model_module_version": "1.5.0",
          "state": {
            "_dom_classes": [],
            "_model_module": "@jupyter-widgets/controls",
            "_model_module_version": "1.5.0",
            "_model_name": "ButtonModel",
            "_view_count": null,
            "_view_module": "@jupyter-widgets/controls",
            "_view_module_version": "1.5.0",
            "_view_name": "ButtonView",
            "button_style": "success",
            "description": "✔ Done",
            "disabled": true,
            "icon": "",
            "layout": "IPY_MODEL_0624bc20fdae43ffa76db951d9d85545",
            "style": "IPY_MODEL_2e1fd42007664d55afe194662bd84e8b",
            "tooltip": ""
          }
        },
        "0624bc20fdae43ffa76db951d9d85545": {
          "model_module": "@jupyter-widgets/base",
          "model_name": "LayoutModel",
          "model_module_version": "1.2.0",
          "state": {
            "_model_module": "@jupyter-widgets/base",
            "_model_module_version": "1.2.0",
            "_model_name": "LayoutModel",
            "_view_count": null,
            "_view_module": "@jupyter-widgets/base",
            "_view_module_version": "1.2.0",
            "_view_name": "LayoutView",
            "align_content": null,
            "align_items": null,
            "align_self": null,
            "border": null,
            "bottom": null,
            "display": null,
            "flex": null,
            "flex_flow": null,
            "grid_area": null,
            "grid_auto_columns": null,
            "grid_auto_flow": null,
            "grid_auto_rows": null,
            "grid_column": null,
            "grid_gap": null,
            "grid_row": null,
            "grid_template_areas": null,
            "grid_template_columns": null,
            "grid_template_rows": null,
            "height": null,
            "justify_content": null,
            "justify_items": null,
            "left": null,
            "margin": null,
            "max_height": null,
            "max_width": null,
            "min_height": null,
            "min_width": "50px",
            "object_fit": null,
            "object_position": null,
            "order": null,
            "overflow": null,
            "overflow_x": null,
            "overflow_y": null,
            "padding": null,
            "right": null,
            "top": null,
            "visibility": null,
            "width": null
          }
        },
        "2e1fd42007664d55afe194662bd84e8b": {
          "model_module": "@jupyter-widgets/controls",
          "model_name": "ButtonStyleModel",
          "model_module_version": "1.5.0",
          "state": {
            "_model_module": "@jupyter-widgets/controls",
            "_model_module_version": "1.5.0",
            "_model_name": "ButtonStyleModel",
            "_view_count": null,
            "_view_module": "@jupyter-widgets/base",
            "_view_module_version": "1.2.0",
            "_view_name": "StyleView",
            "button_color": null,
            "font_weight": ""
          }
        },
        "f5a92e7eaa474ecf938305fb324cc258": {
          "model_module": "@jupyter-widgets/controls",
          "model_name": "ButtonModel",
          "model_module_version": "1.5.0",
          "state": {
            "_dom_classes": [],
            "_model_module": "@jupyter-widgets/controls",
            "_model_module_version": "1.5.0",
            "_model_name": "ButtonModel",
            "_view_count": null,
            "_view_module": "@jupyter-widgets/controls",
            "_view_module_version": "1.5.0",
            "_view_name": "ButtonView",
            "button_style": "primary",
            "description": "✔ Model already exists, check the box \"Redownload_the_original_model\" to redownload/download the V2",
            "disabled": true,
            "icon": "",
            "layout": "IPY_MODEL_e95739b4a77a4e73819034df1bd07702",
            "style": "IPY_MODEL_ea26d44e783345f9b3bca0ec60c18e00",
            "tooltip": ""
          }
        },
        "e95739b4a77a4e73819034df1bd07702": {
          "model_module": "@jupyter-widgets/base",
          "model_name": "LayoutModel",
          "model_module_version": "1.2.0",
          "state": {
            "_model_module": "@jupyter-widgets/base",
            "_model_module_version": "1.2.0",
            "_model_name": "LayoutModel",
            "_view_count": null,
            "_view_module": "@jupyter-widgets/base",
            "_view_module_version": "1.2.0",
            "_view_name": "LayoutView",
            "align_content": null,
            "align_items": null,
            "align_self": null,
            "border": null,
            "bottom": null,
            "display": null,
            "flex": null,
            "flex_flow": null,
            "grid_area": null,
            "grid_auto_columns": null,
            "grid_auto_flow": null,
            "grid_auto_rows": null,
            "grid_column": null,
            "grid_gap": null,
            "grid_row": null,
            "grid_template_areas": null,
            "grid_template_columns": null,
            "grid_template_rows": null,
            "height": null,
            "justify_content": null,
            "justify_items": null,
            "left": null,
            "margin": null,
            "max_height": null,
            "max_width": null,
            "min_height": null,
            "min_width": "700px",
            "object_fit": null,
            "object_position": null,
            "order": null,
            "overflow": null,
            "overflow_x": null,
            "overflow_y": null,
            "padding": null,
            "right": null,
            "top": null,
            "visibility": null,
            "width": null
          }
        },
        "ea26d44e783345f9b3bca0ec60c18e00": {
          "model_module": "@jupyter-widgets/controls",
          "model_name": "ButtonStyleModel",
          "model_module_version": "1.5.0",
          "state": {
            "_model_module": "@jupyter-widgets/controls",
            "_model_module_version": "1.5.0",
            "_model_name": "ButtonStyleModel",
            "_view_count": null,
            "_view_module": "@jupyter-widgets/base",
            "_view_module_version": "1.2.0",
            "_view_name": "StyleView",
            "button_color": null,
            "font_weight": ""
          }
        }
      }
    }
  },
  "nbformat": 4,
  "nbformat_minor": 0
}