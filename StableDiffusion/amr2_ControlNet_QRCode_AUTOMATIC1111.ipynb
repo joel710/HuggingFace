{
  "cells": [
    {
      "cell_type": "markdown",
      "metadata": {
        "id": "view-in-github",
        "colab_type": "text"
      },
      "source": [
        "<a href=\"https://colab.research.google.com/github/royam0820/HuggingFace/blob/main/amr2_ControlNet_QRCode_AUTOMATIC1111.ipynb\" target=\"_parent\"><img src=\"https://colab.research.google.com/assets/colab-badge.svg\" alt=\"Open In Colab\"/></a>"
      ]
    },
    {
      "cell_type": "markdown",
      "metadata": {
        "id": "47kV9o1Ni8GH"
      },
      "source": [
        "# **Notebook From https://github.com/TheLastBen/fast-stable-diffusion, if you encounter any issues, feel free to discuss them.** [Support](https://ko-fi.com/thelastben)"
      ]
    },
    {
      "cell_type": "markdown",
      "metadata": {
        "id": "mMvNge25ok6V"
      },
      "source": [
        "# Stable Diffusion Webui - Wiki\n",
        "https://github.com/AUTOMATIC1111/stable-diffusion-webui/wiki/Features"
      ]
    },
    {
      "cell_type": "markdown",
      "metadata": {
        "id": "K9XweCKz4krn"
      },
      "source": [
        "## Stable Diffusion - Artist Style\n",
        "https://github.com/kaikalii/stable-diffusion-artists"
      ]
    },
    {
      "cell_type": "markdown",
      "metadata": {
        "id": "TlkOs2c7OJ3X"
      },
      "source": [
        "## Stable Diffusion Prompt Template\n",
        "https://github.com/Dalabad/stable-diffusion-prompt-templates\n",
        "\n",
        "**Prompting is a skill. It takes practice, an artistic eye, and a poetic heart**. You should speak to ideas, metaphor, emotion, and energy. Your ability to prompt is not something someone can steal from you. **So if you share an image, please share your prompt and settings. Every prompt is a unique pen**. But it's a pen that's infinitely remixable by a hypercreative AI and the collective intelligence of humanity. The more we work together in generating cool prompts and seeing what works well, the better we ALL will be.\n",
        "\n",
        "Check this website [Lexica](https://lexica.art/) to get some inspiration regarding prompting.\n"
      ]
    },
    {
      "cell_type": "markdown",
      "metadata": {
        "id": "Rec-hJcHx2rX"
      },
      "source": [
        "##\n",
        " Prompt Emphasis\n",
        "[Cheat sheet](https://github.com/AUTOMATIC1111/stable-diffusion-webui/wiki/Features):\n",
        "\n",
        "NB: parenthesis `()` increases the emphasis, squared bracket `[]` decreases the emphasis.\n",
        "\n",
        "- a (word) - increase attention to word by a factor of 1.1\n",
        "- a ((word)) - increase attention to word by a factor of 1.21 (= 1.1 * 1.1)\n",
        "- a [word] - decrease attention to word by a factor of 1.1\n",
        "- a (word:1.5) - increase attention to word by a factor of 1.5\n",
        "- a (word:0.25) - decrease attention to word by a factor of 4 (= 1 / 0.25)\n",
        "- a \\(word\\) - use literal () characters in prompt\n",
        "\n",
        "With (), a weight can be specified like this: (text:1.4). If the weight is not specified, it is assumed to be 1.1. Specifying weight only works with () not with []."
      ]
    },
    {
      "cell_type": "markdown",
      "metadata": {
        "id": "QVfWlx50iOZV"
      },
      "source": [
        "## Classifier Free Guidance (CFG)\n",
        "Probably the coolest singular term to play with in Stable Diffusion. **CFG measures how much the AI will listen to your prompt vs doing its own thing**. Practically speaking, it is a measure of how confident you feel in your prompt. Here's a CFG value gut check:\n",
        "\n",
        "- CFG 2 - 6: Let the AI take the wheel.\n",
        "- CFG 7 - 11: Let's collaborate, AI! Default value is 7.\n",
        "- CFG 12 - 15: No, seriously, this is a good prompt. Just do what I say, AI.\n",
        "- CFG 16 - 20: DO WHAT I SAY OR ELSE, AI."
      ]
    },
    {
      "cell_type": "markdown",
      "metadata": {
        "id": "dhu7RV5B-JzW"
      },
      "source": [
        "## Denoising Strength\n",
        "Denoising strength used in the `img2img` tab: defines the standard deviation of the random noise added to the masked region. **The higher this parameter, the lower the similarity with the content in the unmasked portion of the image.**\n"
      ]
    },
    {
      "cell_type": "markdown",
      "metadata": {
        "id": "ZH_lUUl-kNas"
      },
      "source": [
        "## Sampling Method, Sampling Step, Batch Count, Batch Size\n",
        "\n",
        "## Sampling Method\n",
        "Commonly used sampling methods are:\n",
        "\n",
        "- **lms_karras** (The Old Reliable). Also called k_lms. lms_karras at 50 steps will give you fine generations most of the time if your prompt is good. k_lms runs pretty quick, so the results will come in at a good speed as well. You could easily just stick with this setting forever at CFG 7-8 and be ok. If things are coming out looking a little cursed, you could try a higher step value, like 80. But, as a rule of thumb, make sure your higher step value is actually getting you a benefit, and you're not just wasting your time.\n",
        "- **DDIM** (the speed demon!). **DDIM at 8 steps** (yes, you read that right. 8 steps) can get you great results at a blazing fast speed. This is a wonderful setting for generating a lot of images quickly.\n",
        "- **euler_a** (The Chameleon). Also called k_euler_a. Everything that applies to DDIM applies here as well. This sampler is also lightning fast and also gets great results at extremely low step counts (steps 8-16). But it also changes generation style a lot more. Your generation at step count 15 might look very different than step count 16. And then they might BOTH look very different than step count 30. And then THAT might be very different than step count 65. This sampler is wild. It's also worth noting here in general: your results will look TOTALLY different depending on what sampler you use. So don't be afraid to experiment. If you have a result you already like a lot in k_euler_a, pop it into DDIM (or vice versa).\n",
        "- **DPM2 Karras**. (The Starving Artist).\n",
        " Also called k_dpm_2_a. This sampler might be the best one, but it has serious tradeoffs. **It is VERY slow** compared to the ones mentioned above However, for the 30-80 step range which is very very good. It's a bad sampler for experimentation, but if you already have a prompt you love dialed in, let it rip. Just be prepared to wait. And wait. If you're still at the stage where you're adding and removing terms from a prompt, though, you should stick to k_euler_a or DDIM at a lower step count.\n",
        "\n",
        "NB: certain samplers are better at certain types of artwork. Some better at portraits, landscapes, etc. To be tested, but featuring your prompt is still your best bet.\n",
        "\n",
        "## Sampling Steps\n",
        "**Sampling steps**: start with 20 steps, and increase to 50 or 70 steps, no need to go all the way to 150 steps. **Many problems that can be solved with a higher step count can also be solved with better prompting**. If your subject's eyes are coming out terribly, try adding stuff to your prompt talking about their *\"symmetric highly detailed eyes, fantastic eyes, intricate eyes\"*,\n",
        "\n",
        "## Batch Count\n",
        "**Batch count**=how many images per batch, can make you run out of memory very fast!\n",
        "\n",
        "## Batch Size\n",
        "**Batch size**=how many batches we want to produce\n",
        "\n",
        "NB: A note on large batch sizes: Some people like to make 500 generations and choose, like, the best 4. I think in this situation you're better off reworking your prompt more. Most solid prompts I've seen get really good results within 10 generations.\n",
        "\n",
        "> batch size is how many images generated in one single generation. Batch count is how many generations.\n",
        "\n"
      ]
    },
    {
      "cell_type": "markdown",
      "metadata": {
        "id": "V3EP11c75TCa"
      },
      "source": [
        "## Script\n",
        "- **prompt matrix** enable you to create a variation and combination from different prompts, using a `|` to separate the prompts. i.e.: *a closeup portrait of a blonde woman with blue eyes, studio lighting, filmy, cinematic | Andy Warhol*.\n",
        "- **prompt from file or text box** It allows us to generate multiple images, from multiple promts. You can use a text file, or use the text prompt to create multiple prompts\n",
        "- **X/Y plot** allows you to create a grid of output images using a variation of the parameters of the model. When choosing this script, two types of selection items 'X Type' and 'Y Type' appeared.\n",
        "\n",
        "-"
      ]
    },
    {
      "cell_type": "markdown",
      "metadata": {
        "id": "vGut7NAAv6Ln"
      },
      "source": [
        "## Seed\n",
        "Seed in Stable Diffusion is a number used to initialize the generation. The default seed value of `-1` will give you a random generated image. You can also control the seed, by indicating a specific seed number, which will allow you to generate reproducible images.\n",
        "\n",
        "NB: The most important thing about seed is that generations with the same parameters, prompt, and seed will produce precisely the same images."
      ]
    },
    {
      "cell_type": "code",
      "source": [
        "!nvidia-smi"
      ],
      "metadata": {
        "colab": {
          "base_uri": "https://localhost:8080/"
        },
        "id": "7eAwNYWcbt53",
        "outputId": "0454af3f-80fd-4a6c-cf9c-a02291299599"
      },
      "execution_count": 2,
      "outputs": [
        {
          "output_type": "stream",
          "name": "stdout",
          "text": [
            "Thu Jun 22 14:08:15 2023       \n",
            "+-----------------------------------------------------------------------------+\n",
            "| NVIDIA-SMI 525.85.12    Driver Version: 525.85.12    CUDA Version: 12.0     |\n",
            "|-------------------------------+----------------------+----------------------+\n",
            "| GPU  Name        Persistence-M| Bus-Id        Disp.A | Volatile Uncorr. ECC |\n",
            "| Fan  Temp  Perf  Pwr:Usage/Cap|         Memory-Usage | GPU-Util  Compute M. |\n",
            "|                               |                      |               MIG M. |\n",
            "|===============================+======================+======================|\n",
            "|   0  NVIDIA A100-SXM...  Off  | 00000000:00:04.0 Off |                    0 |\n",
            "| N/A   32C    P0    46W / 400W |      0MiB / 40960MiB |      0%      Default |\n",
            "|                               |                      |             Disabled |\n",
            "+-------------------------------+----------------------+----------------------+\n",
            "                                                                               \n",
            "+-----------------------------------------------------------------------------+\n",
            "| Processes:                                                                  |\n",
            "|  GPU   GI   CI        PID   Type   Process name                  GPU Memory |\n",
            "|        ID   ID                                                   Usage      |\n",
            "|=============================================================================|\n",
            "|  No running processes found                                                 |\n",
            "+-----------------------------------------------------------------------------+\n"
          ]
        }
      ]
    },
    {
      "cell_type": "code",
      "execution_count": 3,
      "metadata": {
        "colab": {
          "base_uri": "https://localhost:8080/"
        },
        "id": "Y9EBc437WDOs",
        "outputId": "7f014341-3f45-4c1c-c95f-cce007fa97cf"
      },
      "outputs": [
        {
          "output_type": "stream",
          "name": "stdout",
          "text": [
            "Mounted at /content/gdrive\n"
          ]
        }
      ],
      "source": [
        "from google.colab import drive\n",
        "drive.mount('/content/gdrive')"
      ]
    },
    {
      "cell_type": "code",
      "source": [
        "# import os\n",
        "# os.environ[\"SHARE\"] = 'True'"
      ],
      "metadata": {
        "id": "R4zX6bSem4AS"
      },
      "execution_count": 2,
      "outputs": []
    },
    {
      "cell_type": "markdown",
      "source": [
        "# ControlNet\n",
        "ControlNet is a neural network structure to control diffusion models by adding extra conditions. It provides users a way to customize the generation process by generating different spatial contexts such as a depth map, a segmentation map, a scribble, and so on ...!\n",
        "\n",
        "[Addional infos](https://huggingface.co/blog/controlnet)\n",
        "\n",
        "[GitHub Ref.](https://github.com/lllyasviel/ControlNet)"
      ],
      "metadata": {
        "id": "tzjnzVhH5BIn"
      }
    },
    {
      "cell_type": "markdown",
      "source": [
        "![image.png](data:image/png;base64,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)"
      ],
      "metadata": {
        "id": "fEgHqm4-7ISs"
      }
    },
    {
      "cell_type": "markdown",
      "source": [
        "## Control Weight/Start/End\n",
        "**Control Weight** is the weight of the controlnet \"influence\". It's analogous to prompt attention/emphasis. E.g. (myprompt: 1.2). Technically, it's the factor by which to multiply the ControlNet outputs before merging them with original SD Unet.\n",
        "\n",
        "Guidance Start/End is the percentage of total steps the controlnet applies (guidance strength = guidance end). It's analogous to prompt editing/shifting. E.g. [myprompt::0.8] (It applies from the beginning until 80% of total steps)\n",
        "\n"
      ],
      "metadata": {
        "id": "Np9GdQqNYaSZ"
      }
    },
    {
      "cell_type": "markdown",
      "metadata": {
        "id": "71PgPYn77V3U"
      },
      "source": [
        "# Errors\n",
        "If you encounter any issue or you want to update to latest webui version, remove the folder \"sd\" or \"stable-diffusion-webui\" from your GDrive (and GDrive trash) and rerun the colab."
      ]
    },
    {
      "cell_type": "code",
      "source": [
        "!pip install -r /content/gdrive/MyDrive/sd/stable-diffusion-webui/requirements_versions.txt\n",
        "!pip install open_clip_torch\n",
        "!pip install git+https://github.com/openai/CLIP.git\n",
        "!pip install xformers"
      ],
      "metadata": {
        "id": "WjXkc3DuXL6y"
      },
      "execution_count": null,
      "outputs": []
    },
    {
      "cell_type": "code",
      "execution_count": null,
      "metadata": {
        "cellView": "form",
        "id": "CFWtw-6EPrKi"
      },
      "outputs": [],
      "source": [
        "#@markdown # Install/Update AUTOMATIC1111 repo\n",
        "from IPython.utils import capture\n",
        "from IPython.display import clear_output\n",
        "from subprocess import getoutput\n",
        "import ipywidgets as widgets\n",
        "import sys\n",
        "import fileinput\n",
        "import os\n",
        "import time\n",
        "\n",
        "if not os.path.exists(\"/content/gdrive/MyDrive/\"):\n",
        "  print('\u001b[1;31mGdrive not connected, using colab storage ...')\n",
        "  time.sleep(4)\n",
        "  !mkdir -p /content/gdrive/MyDrive/\n",
        "with capture.capture_output() as cap:\n",
        "  def inf(msg, style, wdth): inf = widgets.Button(description=msg, disabled=True, button_style=style, layout=widgets.Layout(min_width=wdth));display(inf)\n",
        "  fgitclone = \"git clone --depth 1\"\n",
        "  %mkdir -p /content/gdrive/MyDrive/sd\n",
        "  %cd /content/gdrive/MyDrive/sd\n",
        "  !$fgitclone -q --branch master https://github.com/AUTOMATIC1111/stable-diffusion-webui\n",
        "  !mkdir -p /content/gdrive/MyDrive/sd/stable-diffusion-webui/cache/huggingface\n",
        "  !ln -s /content/gdrive/MyDrive/sd/stable-diffusion-webui/cache/huggingface /root/.cache/\n",
        "\n",
        "with capture.capture_output() as cap:\n",
        "  %cd /content/gdrive/MyDrive/sd/stable-diffusion-webui/\n",
        "  !git reset --hard\n",
        "  time.sleep(1)\n",
        "  !rm webui.sh\n",
        "print('\u001b[1;32m')\n",
        "!git pull\n",
        "clear_output()\n",
        "inf('\\u2714 Done','success', '50px')"
      ]
    },
    {
      "cell_type": "code",
      "execution_count": null,
      "metadata": {
        "cellView": "form",
        "id": "ZGV_5H4xrOSp"
      },
      "outputs": [],
      "source": [
        "#@markdown # Requirements\n",
        "\n",
        "print('\u001b[1;32mInstalling requirements...')\n",
        "\n",
        "with capture.capture_output() as cap:\n",
        "  %cd /content/\n",
        "  !wget -q -i https://raw.githubusercontent.com/TheLastBen/fast-stable-diffusion/main/Dependencies/A1111.txt\n",
        "  !dpkg -i *.deb\n",
        "  if not os.path.exists('/content/gdrive/MyDrive/sd/stablediffusion'):\n",
        "    !tar -C / --zstd -xf sd.tar.zst\n",
        "  !tar -C / --zstd -xf gcolab.tar.zst\n",
        "  !rm *.deb | rm *.zst | rm *.txt\n",
        "  %env LD_PRELOAD=libtcmalloc.so\n",
        "  os.environ['TF_CPP_MIN_LOG_LEVEL'] = '3'\n",
        "\n",
        "clear_output()\n",
        "inf('\\u2714 Done','success', '50px')"
      ]
    },
    {
      "cell_type": "code",
      "execution_count": null,
      "metadata": {
        "cellView": "form",
        "id": "p4wj_txjP3TC"
      },
      "outputs": [],
      "source": [
        "#@markdown # Model Download/Load\n",
        "Model_Version = \"1.5\" #@param [ \"1.5\", \"v1.5 Inpainting \", \"V2.1-512px\", \"V2.1-768px\"]\n",
        "\n",
        "Redownload_the_original_model = True #@param {type:\"boolean\"}\n",
        "\n",
        "def rmv():\n",
        "  !wget -q -O /content/gdrive/MyDrive/sd/stable-diffusion-webui/models/Stable-diffusion/model.ckpt https://raw.githubusercontent.com/TheLastBen/fast-stable-diffusion/main/precompiled/README.md\n",
        "  !mv /content/gdrive/MyDrive/sd/stable-diffusion-webui/models/Stable-diffusion/model.ckpt /content/gdrive/MyDrive/sd/stable-diffusion-webui/models/Stable-diffusion/trashfile.f\n",
        "  time.sleep(2)\n",
        "  !rm /content/gdrive/MyDrive/sd/stable-diffusion-webui/models/Stable-diffusion/trashfile.f\n",
        "  clear_output()\n",
        "\n",
        "if Redownload_the_original_model:\n",
        "  with capture.capture_output() as cap:\n",
        "    rmv()\n",
        "\n",
        "#@markdown Or\n",
        "Path_to_MODEL = \"/content/gdrive/MyDrive/sd/stable-diffusion-webui/models/ghostmix/ghostmix_v20Bakedvae.safetensors\" #@param {type:\"string\"}\n",
        "#@markdown - Insert the full path of your trained model or to a folder containing multiple models.\n",
        "\n",
        "#@markdown Or\n",
        "MODEL_LINK = \"\" #@param {type:\"string\"}\n",
        "safetensors = False #@param {type:\"boolean\"}\n",
        "Use_temp_storage = False #@param {type:\"boolean\"}\n",
        "\n",
        "\n",
        "\n",
        "def newmdl():\n",
        "\n",
        "    if not os.path.exists('/content/gdrive/MyDrive/sd/stable-diffusion-webui/models/Stable-diffusion/model.ckpt'):\n",
        "      %cd /content/\n",
        "      clear_output()\n",
        "      !git init\n",
        "      !git lfs install --system --skip-repo\n",
        "      !$fgitclone --branch fp16 \"https://huggingface.co/runwayml/stable-diffusion-v1-5\"\n",
        "      if os.path.exists('/content/stable-diffusion-v1-5/unet/diffusion_pytorch_model.bin'):\n",
        "        !wget -q -O stable-diffusion-v1-5/vae/diffusion_pytorch_model.bin https://huggingface.co/stabilityai/sd-vae-ft-mse/resolve/main/diffusion_pytorch_model.bin\n",
        "        !wget -O convertosd.py https://github.com/TheLastBen/fast-stable-diffusion/raw/main/Dreambooth/convertosd.py\n",
        "        !sed -i '201s@.*@    model_path = \"/content/stable-diffusion-v1-5\"@' /content/convertosd.py\n",
        "        !sed -i '202s@.*@    checkpoint_path= \"/content/gdrive/MyDrive/sd/stable-diffusion-webui/models/Stable-diffusion/model.ckpt\"@' /content/convertosd.py\n",
        "        clear_output()\n",
        "        !python /content/convertosd.py\n",
        "        !rm /content/convertosd.py\n",
        "        if os.path.exists('/content/gdrive/MyDrive/sd/stable-diffusion-webui/models/Stable-diffusion/model.ckpt'):\n",
        "          model='/content/gdrive/MyDrive/sd/stable-diffusion-webui/models/Stable-diffusion/model.ckpt'\n",
        "          clear_output()\n",
        "          inf('\\u2714 Done','success', '50px')\n",
        "        else:\n",
        "          inf('\\u2718 Something went wrong, try again','danger', \"250px\")\n",
        "      else:\n",
        "        inf('\\u2718 Something went wrong','danger', \"200px\")\n",
        "\n",
        "    else:\n",
        "      model='/content/gdrive/MyDrive/sd/stable-diffusion-webui/models/Stable-diffusion/model.ckpt'\n",
        "      clear_output()\n",
        "      inf('\\u2714 Model already exists, check the box \"Redownload_the_original_model\" to redownload/download the V1.5','primary', '700px')\n",
        "\n",
        "    if os.path.exists('/content/.git'):\n",
        "      !rm -r /content/.git\n",
        "\n",
        "    if os.path.exists('/content/stable-diffusion-v1-5'):\n",
        "      !rm -r /content/stable-diffusion-v1-5\n",
        "\n",
        "    return model\n",
        "\n",
        "def V2():\n",
        "\n",
        "    if not os.path.exists('/content/gdrive/MyDrive/sd/stable-diffusion-webui/models/Stable-diffusion/model.ckpt'):\n",
        "      %cd /content/\n",
        "      clear_output()\n",
        "      !mkdir \"/content/stable-diffusion-V2\"\n",
        "      %cd \"/content/stable-diffusion-V2\"\n",
        "      !git init\n",
        "      !git lfs install --system --skip-repo\n",
        "      if Model_Version == \"V2.1-768px\":\n",
        "        !git remote add -f origin  \"https://huggingface.co/stabilityai/stable-diffusion-2-1\"\n",
        "      elif Model_Version == \"V2.1-512px\":\n",
        "        !git remote add -f origin  \"https://huggingface.co/stabilityai/stable-diffusion-2-1-base\"\n",
        "      !git config core.sparsecheckout true\n",
        "      !echo -e \"scheduler\\ntext_encoder\\ntokenizer\\nunet\\nvae\\nfeature_extractor\\nmodel_index.json\\n!*.safetensors\" > .git/info/sparse-checkout\n",
        "      !git pull origin fp16\n",
        "      %cd /content\n",
        "      !wget -O convertosdv2.py https://github.com/TheLastBen/fast-stable-diffusion/raw/main/Dreambooth/convertosdv2.py\n",
        "      clear_output()\n",
        "      !python /content/convertosdv2.py --fp16 /content/stable-diffusion-V2 /content/gdrive/MyDrive/sd/stable-diffusion-webui/models/Stable-diffusion/model.ckpt\n",
        "      !rm /content/convertosdv2.py\n",
        "      if os.path.exists('/content/gdrive/MyDrive/sd/stable-diffusion-webui/models/Stable-diffusion/model.ckpt'):\n",
        "        model='/content/gdrive/MyDrive/sd/stable-diffusion-webui/models/Stable-diffusion/model.ckpt'\n",
        "        clear_output()\n",
        "        inf('\\u2714 Done','success', '50px')\n",
        "      else:\n",
        "        inf('\\u2718 Something went wrong, try again','danger', \"250px\")\n",
        "\n",
        "    else:\n",
        "      model='/content/gdrive/MyDrive/sd/stable-diffusion-webui/models/Stable-diffusion/model.ckpt'\n",
        "      clear_output()\n",
        "      inf('\\u2714 Model already exists, check the box \"Redownload_the_original_model\" to redownload/download the V2','primary', '700px')\n",
        "\n",
        "    if os.path.exists('/content/.git'):\n",
        "      !rm -r /content/.git\n",
        "      !rm -r /content/convertosdv2.py\n",
        "    if os.path.exists('/content/stable-diffusion-V2'):\n",
        "      !rm -r /content/stable-diffusion-V2\n",
        "\n",
        "    return model\n",
        "\n",
        "def inpmdl():\n",
        "\n",
        "    if not os.path.exists('/content/gdrive/MyDrive/sd/stable-diffusion-webui/models/Stable-diffusion/sd-v1-5-inpainting.ckpt'):\n",
        "      %cd /content/\n",
        "      clear_output()\n",
        "      !git init\n",
        "      !git lfs install --system --skip-repo\n",
        "      !$fgitclone --branch fp16 \"https://huggingface.co/runwayml/stable-diffusion-inpainting\"\n",
        "      if os.path.exists('/content/stable-diffusion-inpainting'):\n",
        "        !$fgitclone \"https://huggingface.co/stabilityai/sd-vae-ft-mse\"\n",
        "        !rm -r /content/stable-diffusion-inpainting/vae\n",
        "        !mv /content/sd-vae-ft-mse /content/stable-diffusion-inpainting/vae\n",
        "        !wget -O convertosd.py https://github.com/TheLastBen/fast-stable-diffusion/raw/main/Dreambooth/convertosd.py\n",
        "        !sed -i '201s@.*@    model_path = \"/content/stable-diffusion-inpainting\"@' /content/convertosd.py\n",
        "        !sed -i '202s@.*@    checkpoint_path= \"/content/gdrive/MyDrive/sd/stable-diffusion-webui/models/Stable-diffusion/sd-v1-5-inpainting.ckpt\"@' /content/convertosd.py\n",
        "        clear_output()\n",
        "        !python /content/convertosd.py\n",
        "        !rm /content/convertosd.py\n",
        "        if os.path.exists('/content/gdrive/MyDrive/sd/stable-diffusion-webui/models/Stable-diffusion/sd-v1-5-inpainting.ckpt'):\n",
        "          model='/content/gdrive/MyDrive/sd/stable-diffusion-webui/models/Stable-diffusion/sd-v1-5-inpainting.ckpt'\n",
        "          clear_output()\n",
        "          inf('\\u2714 Done','success', '50px')\n",
        "        else:\n",
        "          inf('\\u2718 Something went wrong, try again','danger', \"250px\")\n",
        "      else:\n",
        "        inf('\\u2718 Something went wrong','danger', \"200px\")\n",
        "\n",
        "\n",
        "    else:\n",
        "      model='/content/gdrive/MyDrive/sd/stable-diffusion-webui/models/Stable-diffusion/sd-v1-5-inpainting.ckpt'\n",
        "      clear_output()\n",
        "      inf('\\u2714 inpainting model already exists','primary', '250px')\n",
        "\n",
        "    if os.path.exists('/content/.git'):\n",
        "      !rm -r /content/.git\n",
        "\n",
        "    if os.path.exists('/content/stable-diffusion-inpainting'):\n",
        "      !rm -r /content/stable-diffusion-inpainting\n",
        "\n",
        "    return model\n",
        "\n",
        "if (Path_to_MODEL !=''):\n",
        "  if os.path.exists(str(Path_to_MODEL)):\n",
        "    inf('\\u2714 Using the trained model.','success', '200px')\n",
        "\n",
        "  else:\n",
        "      while not os.path.exists(str(Path_to_MODEL)):\n",
        "        inf('\\u2718 Wrong path, use the colab file explorer to copy the path : ','danger', \"400px\")\n",
        "        Path_to_MODEL=input()\n",
        "      if os.path.exists(str(Path_to_MODEL)):\n",
        "        inf('\\u2714 Using the trained model.','success', '200px')\n",
        "\n",
        "  model=Path_to_MODEL\n",
        "\n",
        "elif MODEL_LINK != \"\":\n",
        "  gdrv=\"/content/gdrive/MyDrive/sd/stable-diffusion-webui/models/Stable-diffusion\"\n",
        "  tmp=\"/content\"\n",
        "  pth=tmp if Use_temp_storage else gdrv\n",
        "  %cd $pth\n",
        "  clear_output()\n",
        "  if not safetensors:\n",
        "    modelname=\"model.ckpt\"\n",
        "  else:\n",
        "    modelname=\"model.safetensors\"\n",
        "  !gdown --fuzzy -O $modelname $MODEL_LINK\n",
        "  if os.path.exists(f'{pth}/{modelname}') and os.path.getsize(f'{pth}/{modelname}') > 1810671599:\n",
        "      model=f'{pth}/{modelname}'\n",
        "      clear_output()\n",
        "      inf('\\u2714 Model downloaded, using the trained model.','success', '350px')\n",
        "  else:\n",
        "    if Use_temp_storage:\n",
        "      !rm $pth/$modelname\n",
        "    else:\n",
        "      rmv()\n",
        "    inf('\\u2718 Wrong link, check that the link is valid','danger', \"300px\")\n",
        "\n",
        "\n",
        "elif Model_Version==\"1.5\":\n",
        "  model=newmdl()\n",
        "\n",
        "elif Model_Version==\"V2.1-512px\" or Model_Version==\"V2.1-768px\":\n",
        "  model=V2()\n",
        "\n",
        "else:\n",
        "   model=inpmdl()"
      ]
    },
    {
      "cell_type": "markdown",
      "source": [
        "*NB: safetensors is a safe and fast file format for storing and loading tensors. Typically, PyTorch model weights are saved or pickled into a .bin file with Python’s pickle utility. However, pickle is not secure and pickled files may contain malicious code that can be executed. safetensors is a secure alternative to pickle, making it ideal for sharing model weights.*"
      ],
      "metadata": {
        "id": "k__qf12ndnb8"
      }
    },
    {
      "cell_type": "code",
      "execution_count": null,
      "metadata": {
        "cellView": "form",
        "id": "zC3Rz1b2TBcB"
      },
      "outputs": [],
      "source": [
        "#@markdown # ControlNet\n",
        "from torch.hub import download_url_to_file\n",
        "from urllib.parse import urlparse\n",
        "\n",
        "Model = \"All\" #@param [ \"All\", \"Canny\", \"Depth\", \"HED\", \"MLSD\", \"Normal\", \"OpenPose\", \"Scribble\", \"Seg\", \"T2iadapter_Models\"]\n",
        "\n",
        "#@markdown - Download/update ControlNet extension and its models.\n",
        "\n",
        "def download(url, model_dir):\n",
        "\n",
        "    filename = os.path.basename(urlparse(url).path)\n",
        "    pth = os.path.abspath(os.path.join(model_dir, filename))\n",
        "    if not os.path.exists(pth):\n",
        "        print('Downloading: '+os.path.basename(url))\n",
        "        download_url_to_file(url, pth, hash_prefix=None, progress=True)\n",
        "    else:\n",
        "      print(f\"\u001b[1;32mThe model {filename} already exists\u001b[0m\")\n",
        "\n",
        "Canny='https://huggingface.co/webui/ControlNet-modules-safetensors/resolve/main/control_canny-fp16.safetensors'\n",
        "Depth='https://huggingface.co/webui/ControlNet-modules-safetensors/resolve/main/control_depth-fp16.safetensors'\n",
        "HED='https://huggingface.co/webui/ControlNet-modules-safetensors/resolve/main/control_hed-fp16.safetensors'\n",
        "MLSD='https://huggingface.co/webui/ControlNet-modules-safetensors/resolve/main/control_mlsd-fp16.safetensors'\n",
        "Normal='https://huggingface.co/webui/ControlNet-modules-safetensors/resolve/main/control_normal-fp16.safetensors'\n",
        "OpenPose='https://huggingface.co/webui/ControlNet-modules-safetensors/resolve/main/control_openpose-fp16.safetensors'\n",
        "Scribble='https://huggingface.co/webui/ControlNet-modules-safetensors/resolve/main/control_scribble-fp16.safetensors'\n",
        "Seg='https://huggingface.co/webui/ControlNet-modules-safetensors/resolve/main/control_seg-fp16.safetensors'\n",
        "#QRCode=\"'https://huggingface.co/DionTimmer/controlnet_qrcode/blob/main/control_v1p_sd15_qrcode.yaml\", \"https://huggingface.co/DionTimmer/controlnet_qrcode/blob/main/control_v1p_sd15_qrcode.safetensors\"\n",
        "\n",
        "with capture.capture_output() as cap:\n",
        "  %cd /content/gdrive/MyDrive/sd/stable-diffusion-webui/extensions\n",
        "  if not os.path.exists(\"sd-webui-controlnet\"):\n",
        "    !git clone https://github.com/Mikubill/sd-webui-controlnet.git\n",
        "    %cd /content\n",
        "  else:\n",
        "    %cd sd-webui-controlnet\n",
        "    !git reset --hard\n",
        "    !git pull\n",
        "    %cd /content\n",
        "\n",
        "!cp /content/gdrive/MyDrive/sd/stable-diffusion-webui/extensions/sd-webui-controlnet/models/*.yaml /content/gdrive/MyDrive/sd/stable-diffusion-webui/models\n",
        "mdldir=\"/content/gdrive/MyDrive/sd/stable-diffusion-webui/extensions/sd-webui-controlnet/models\"\n",
        "\n",
        "!wget -q -O CN_models.txt https://github.com/TheLastBen/fast-stable-diffusion/raw/main/AUTOMATIC1111_files/CN_models.txt\n",
        "with open(\"CN_models.txt\", 'r') as f:\n",
        "  mdllnk = f.read().splitlines()\n",
        "!rm CN_models.txt\n",
        "\n",
        "if Model == \"All\":\n",
        "  for lnk in mdllnk:\n",
        "      download(lnk, mdldir)\n",
        "  clear_output()\n",
        "  inf('\\u2714 Done','success', '50px')\n",
        "\n",
        "elif Model == \"T2iadapter_Models\":\n",
        "  mdllnk=list(filter(lambda x: 't2i' in x, mdllnk))\n",
        "  for lnk in mdllnk:\n",
        "      download(lnk, mdldir)\n",
        "  clear_output()\n",
        "  inf('\\u2714 Done','success', '50px')\n",
        "\n",
        "else:\n",
        "  download(globals()[Model], mdldir)\n",
        "  clear_output()\n",
        "  inf('\\u2714 Done','success', '50px')"
      ]
    },
    {
      "cell_type": "code",
      "execution_count": null,
      "metadata": {
        "cellView": "form",
        "id": "PjzwxTkPSPHf"
      },
      "outputs": [],
      "source": [
        "#@markdown # Start Stable-Diffusion\n",
        "from IPython.utils import capture\n",
        "import time\n",
        "import sys\n",
        "import fileinput\n",
        "\n",
        "Use_localtunnel = False #@param {type:\"boolean\"}\n",
        "\n",
        "User = \"\" #@param {type:\"string\"}\n",
        "Password= \"\" #@param {type:\"string\"}\n",
        "#@markdown - Add credentials to your Gradio interface (optional).\n",
        "\n",
        "auth=f\"--gradio-auth {User}:{Password}\"\n",
        "if User ==\"\" or Password==\"\":\n",
        "  auth=\"\"\n",
        "\n",
        "with capture.capture_output() as cap:\n",
        "  if not os.path.exists('/tools/node/bin/lt'):\n",
        "    !npm install -g localtunnel\n",
        "\n",
        "with capture.capture_output() as cap:\n",
        "  %cd /content/gdrive/MyDrive/sd/stable-diffusion-webui/modules/\n",
        "  !wget -O paths.py https://raw.githubusercontent.com/TheLastBen/fast-stable-diffusion/main/AUTOMATIC1111_files/paths.py\n",
        "  !wget -O extras.py https://raw.githubusercontent.com/AUTOMATIC1111/stable-diffusion-webui/master/modules/extras.py\n",
        "  !wget -O sd_models.py https://raw.githubusercontent.com/AUTOMATIC1111/stable-diffusion-webui/master/modules/sd_models.py\n",
        "  !wget -q -O /usr/local/lib/python3.9/dist-packages/gradio/blocks.py https://raw.githubusercontent.com/TheLastBen/fast-stable-diffusion/main/AUTOMATIC1111_files/blocks.py\n",
        "  %cd /content/gdrive/MyDrive/sd/stable-diffusion-webui/\n",
        "\n",
        "  !sed -i \"s@os.path.splitext(checkpoint_file)@os.path.splitext(checkpoint_file); map_location='cuda'@\" /content/gdrive/MyDrive/sd/stable-diffusion-webui/modules/sd_models.py\n",
        "  !sed -i 's@ui.create_ui().*@ui.create_ui();shared.demo.queue(concurrency_count=999999,status_update_rate=0.1)@' /content/gdrive/MyDrive/sd/stable-diffusion-webui/webui.py\n",
        "  !sed -i \"s@map_location='cpu'@map_location='cuda'@\" /content/gdrive/MyDrive/sd/stable-diffusion-webui/modules/extras.py\n",
        "\n",
        "share=''\n",
        "if not Use_localtunnel:\n",
        "  share='--share'\n",
        "\n",
        "else:\n",
        "  with capture.capture_output() as cap:\n",
        "    share=''\n",
        "    %cd /content\n",
        "    !nohup lt --port 7860 > srv.txt 2>&1 &\n",
        "    time.sleep(2)\n",
        "    !grep -o 'https[^ ]*' /content/srv.txt >srvr.txt\n",
        "    time.sleep(2)\n",
        "    srv= getoutput('cat /content/srvr.txt')\n",
        "\n",
        "    for line in fileinput.input('/usr/local/lib/python3.9/dist-packages/gradio/blocks.py', inplace=True):\n",
        "      if line.strip().startswith('self.server_name ='):\n",
        "          line = f'            self.server_name = \"{srv[8:]}\"\\n'\n",
        "      if line.strip().startswith('self.protocol = \"https\"'):\n",
        "          line = '            self.protocol = \"https\"\\n'\n",
        "      if line.strip().startswith('if self.local_url.startswith(\"https\") or self.is_colab'):\n",
        "          line = ''\n",
        "      if line.strip().startswith('else \"http\"'):\n",
        "          line = ''\n",
        "      sys.stdout.write(line)\n",
        "\n",
        "    !rm /content/srv.txt /content/srvr.txt\n",
        "    %cd /content/gdrive/MyDrive/sd/stable-diffusion-webui\n",
        "\n",
        "try:\n",
        "  model\n",
        "  if os.path.isfile(model):\n",
        "    !python /content/gdrive/MyDrive/sd/stable-diffusion-webui/webui.py $share --api --disable-safe-unpickle --enable-insecure-extension-access --no-download-sd-model --no-half-vae  --ckpt \"$model\" --xformers $auth --disable-console-progressbars\n",
        "  else:\n",
        "    !python /content/gdrive/MyDrive/sd/stable-diffusion-webui/webui.py $share --api --disable-safe-unpickle --enable-insecure-extension-access --no-download-sd-model --no-half-vae  --ckpt-dir \"$model\" --xformers $auth --disable-console-progressbars\n",
        "except:\n",
        "   !python /content/gdrive/MyDrive/sd/stable-diffusion-webui/webui.py $share --api --disable-safe-unpickle --enable-insecure-extension-access --no-download-sd-model --no-half-vae --xformers $auth --disable-console-progressbars"
      ]
    }
  ],
  "metadata": {
    "accelerator": "GPU",
    "colab": {
      "provenance": [],
      "machine_shape": "hm",
      "gpuType": "A100",
      "include_colab_link": true
    },
    "kernelspec": {
      "display_name": "Python 3",
      "name": "python3"
    },
    "language_info": {
      "name": "python"
    }
  },
  "nbformat": 4,
  "nbformat_minor": 0
}